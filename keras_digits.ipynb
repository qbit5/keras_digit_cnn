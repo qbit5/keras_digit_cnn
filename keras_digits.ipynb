{
 "cells": [
  {
   "cell_type": "code",
   "execution_count": 44,
   "metadata": {
    "colab": {},
    "colab_type": "code",
    "id": "maXhoqjYL2QZ"
   },
   "outputs": [],
   "source": [
    "import tensorflow as tf"
   ]
  },
  {
   "cell_type": "code",
   "execution_count": 45,
   "metadata": {
    "colab": {},
    "colab_type": "code",
    "id": "YjexNGXrL_TK"
   },
   "outputs": [],
   "source": [
    "mnist = tf.keras.datasets.mnist"
   ]
  },
  {
   "cell_type": "code",
   "execution_count": 46,
   "metadata": {
    "colab": {
     "base_uri": "https://localhost:8080/",
     "height": 52
    },
    "colab_type": "code",
    "executionInfo": {
     "elapsed": 3017,
     "status": "ok",
     "timestamp": 1551676201775,
     "user": {
      "displayName": "Shubham Wankhede",
      "photoUrl": "https://lh4.googleusercontent.com/-J5WXIV5ZC9M/AAAAAAAAAAI/AAAAAAAARhA/GNdW1BgYPC0/s64/photo.jpg",
      "userId": "07056579393575144670"
     },
     "user_tz": -330
    },
    "id": "qrDrTS2dMA6u",
    "outputId": "5a3fa4ff-4578-4b50-d587-e3e285a34956"
   },
   "outputs": [],
   "source": [
    "(x_train,y_train),(x_test,y_test) = mnist.load_data()\n",
    "x_train = tf.keras.utils.normalize(x_train, axis = 1)\n",
    "x_test = tf.keras.utils.normalize(x_test, axis = 1)"
   ]
  },
  {
   "cell_type": "code",
   "execution_count": 47,
   "metadata": {
    "colab": {},
    "colab_type": "code",
    "id": "rTPBSMQYNGcD"
   },
   "outputs": [],
   "source": [
    "import matplotlib.pyplot as plt"
   ]
  },
  {
   "cell_type": "code",
   "execution_count": 48,
   "metadata": {
    "colab": {
     "base_uri": "https://localhost:8080/",
     "height": 365
    },
    "colab_type": "code",
    "executionInfo": {
     "elapsed": 1297,
     "status": "ok",
     "timestamp": 1551676207524,
     "user": {
      "displayName": "Shubham Wankhede",
      "photoUrl": "https://lh4.googleusercontent.com/-J5WXIV5ZC9M/AAAAAAAAAAI/AAAAAAAARhA/GNdW1BgYPC0/s64/photo.jpg",
      "userId": "07056579393575144670"
     },
     "user_tz": -330
    },
    "id": "novN5BwMNbGD",
    "outputId": "ddbb6f4e-9ebc-4e87-8ff6-a1b78f687b13"
   },
   "outputs": [
    {
     "data": {
      "text/plain": [
       "<matplotlib.image.AxesImage at 0x1f41f8b8518>"
      ]
     },
     "execution_count": 48,
     "metadata": {},
     "output_type": "execute_result"
    },
    {
     "data": {
      "image/png": "[encoded data removed]",
      "text/plain": [
       "<Figure size 432x288 with 1 Axes>"
      ]
     },
     "metadata": {
      "needs_background": "light"
     },
     "output_type": "display_data"
    }
   ],
   "source": [
    "plt.imshow(x_train[0], cmap='binary')"
   ]
  },
  {
   "cell_type": "code",
   "execution_count": 56,
   "metadata": {},
   "outputs": [
    {
     "data": {
      "text/plain": [
       "(60000, 28, 28)"
      ]
     },
     "execution_count": 56,
     "metadata": {},
     "output_type": "execute_result"
    }
   ],
   "source": [
    "x_train.shape"
   ]
  },
  {
   "cell_type": "code",
   "execution_count": 57,
   "metadata": {
    "colab": {
     "base_uri": "https://localhost:8080/",
     "height": 140
    },
    "colab_type": "code",
    "executionInfo": {
     "elapsed": 26306,
     "status": "ok",
     "timestamp": 1551676811060,
     "user": {
      "displayName": "Shubham Wankhede",
      "photoUrl": "https://lh4.googleusercontent.com/-J5WXIV5ZC9M/AAAAAAAAAAI/AAAAAAAARhA/GNdW1BgYPC0/s64/photo.jpg",
      "userId": "07056579393575144670"
     },
     "user_tz": -330
    },
    "id": "ySiNFN7rNhv-",
    "outputId": "f195d5ef-80cb-4dc8-b28c-bbc96e222843"
   },
   "outputs": [
    {
     "name": "stdout",
     "output_type": "stream",
     "text": [
      "Epoch 1/3\n",
      "60000/60000 [==============================] - 10s 165us/step - loss: 0.2659 - acc: 0.9205\n",
      "Epoch 2/3\n",
      "60000/60000 [==============================] - 9s 149us/step - loss: 0.1082 - acc: 0.9666\n",
      "Epoch 3/3\n",
      "60000/60000 [==============================] - 10s 160us/step - loss: 0.0732 - acc: 0.9767\n"
     ]
    },
    {
     "data": {
      "text/plain": [
       "<tensorflow.python.keras.callbacks.History at 0x1f404f7dda0>"
      ]
     },
     "execution_count": 57,
     "metadata": {},
     "output_type": "execute_result"
    }
   ],
   "source": [
    "model = tf.keras.models.Sequential()\n",
    "model.add(tf.keras.layers.Flatten(input_shape=(28,28)))\n",
    "model.add(tf.keras.layers.Dense(128, activation = tf.nn.relu))\n",
    "model.add(tf.keras.layers.Dense(128, activation = tf.nn.relu))\n",
    "model.add(tf.keras.layers.Dense(10, activation = tf.nn.softmax))\n",
    "\n",
    "model.compile(optimizer='adam',loss='sparse_categorical_crossentropy', metrics=['accuracy'])\n",
    "\n",
    "model.fit(x_train, y_train, epochs=3)"
   ]
  },
  {
   "cell_type": "code",
   "execution_count": 58,
   "metadata": {
    "colab": {
     "base_uri": "https://localhost:8080/",
     "height": 52
    },
    "colab_type": "code",
    "executionInfo": {
     "elapsed": 2182,
     "status": "ok",
     "timestamp": 1551676816801,
     "user": {
      "displayName": "Shubham Wankhede",
      "photoUrl": "https://lh4.googleusercontent.com/-J5WXIV5ZC9M/AAAAAAAAAAI/AAAAAAAARhA/GNdW1BgYPC0/s64/photo.jpg",
      "userId": "07056579393575144670"
     },
     "user_tz": -330
    },
    "id": "XCZGLpn7RG4x",
    "outputId": "aab725cd-6df4-4ea6-fb69-834d5a05e8ca"
   },
   "outputs": [
    {
     "name": "stdout",
     "output_type": "stream",
     "text": [
      "10000/10000 [==============================] - 1s 70us/step\n",
      "0.09161933171451092 0.9724\n"
     ]
    }
   ],
   "source": [
    "val_loss, val_acc = model.evaluate(x_test,y_test)\n",
    "print(val_loss, val_acc)"
   ]
  },
  {
   "cell_type": "code",
   "execution_count": 59,
   "metadata": {
    "colab": {
     "base_uri": "https://localhost:8080/",
     "height": 246
    },
    "colab_type": "code",
    "executionInfo": {
     "elapsed": 1340,
     "status": "ok",
     "timestamp": 1551676274389,
     "user": {
      "displayName": "Shubham Wankhede",
      "photoUrl": "https://lh4.googleusercontent.com/-J5WXIV5ZC9M/AAAAAAAAAAI/AAAAAAAARhA/GNdW1BgYPC0/s64/photo.jpg",
      "userId": "07056579393575144670"
     },
     "user_tz": -330
    },
    "id": "3ybPDxvjbU15",
    "outputId": "40bf2cfb-06cb-4dfc-f809-09c35f957c1a"
   },
   "outputs": [
    {
     "name": "stdout",
     "output_type": "stream",
     "text": [
      "[[3.61557811e-10 1.33075293e-08 4.12357764e-07 ... 9.99995708e-01\n",
      "  3.91292510e-09 1.90887892e-08]\n",
      " [1.98955208e-09 1.28122439e-04 9.99782741e-01 ... 3.57781071e-09\n",
      "  1.55840155e-06 6.24630718e-13]\n",
      " [4.72955151e-08 9.99810755e-01 2.78709686e-05 ... 2.50381872e-05\n",
      "  9.22031904e-05 6.17686624e-07]\n",
      " ...\n",
      " [3.18963487e-08 1.37392472e-05 9.63233191e-08 ... 2.36238746e-04\n",
      "  1.34242612e-06 2.00709398e-03]\n",
      " [1.61498207e-07 1.01857495e-05 1.37936382e-07 ... 5.58127454e-07\n",
      "  8.57599429e-04 6.09201356e-09]\n",
      " [4.96862526e-07 2.90869924e-08 2.69706106e-06 ... 3.67010311e-11\n",
      "  1.51326037e-06 6.16202467e-09]]\n"
     ]
    }
   ],
   "source": [
    "predictions = model.predict([x_test])\n",
    "print(predictions)"
   ]
  },
  {
   "cell_type": "code",
   "execution_count": 60,
   "metadata": {
    "colab": {},
    "colab_type": "code",
    "id": "wVwdrF9ZbrJb"
   },
   "outputs": [],
   "source": [
    "import numpy as np"
   ]
  },
  {
   "cell_type": "code",
   "execution_count": 61,
   "metadata": {
    "colab": {
     "base_uri": "https://localhost:8080/",
     "height": 365
    },
    "colab_type": "code",
    "executionInfo": {
     "elapsed": 1272,
     "status": "ok",
     "timestamp": 1551676284323,
     "user": {
      "displayName": "Shubham Wankhede",
      "photoUrl": "https://lh4.googleusercontent.com/-J5WXIV5ZC9M/AAAAAAAAAAI/AAAAAAAARhA/GNdW1BgYPC0/s64/photo.jpg",
      "userId": "07056579393575144670"
     },
     "user_tz": -330
    },
    "id": "NHEu7ynicbJY",
    "outputId": "10630097-a7c3-4370-de99-0c3e5cd44e85"
   },
   "outputs": [
    {
     "name": "stdout",
     "output_type": "stream",
     "text": [
      "Digit is  5\n"
     ]
    },
    {
     "data": {
      "image/png": "[encoded data removed]",
      "text/plain": [
       "<Figure size 432x288 with 1 Axes>"
      ]
     },
     "metadata": {
      "needs_background": "light"
     },
     "output_type": "display_data"
    }
   ],
   "source": [
    "plt.imshow(x_test[23])\n",
    "print('Digit is ',np.argmax(predictions[23]))"
   ]
  },
  {
   "cell_type": "code",
   "execution_count": 62,
   "metadata": {
    "colab": {},
    "colab_type": "code",
    "id": "YimVII5Cckfz"
   },
   "outputs": [],
   "source": [
    "from keras.models import load_model\n",
    "from keras import Sequential\n",
    "import h5py"
   ]
  },
  {
   "cell_type": "code",
   "execution_count": 63,
   "metadata": {},
   "outputs": [
    {
     "data": {
      "text/plain": [
       "<tensorflow.python.keras.engine.sequential.Sequential at 0x1f4216f79e8>"
      ]
     },
     "execution_count": 63,
     "metadata": {},
     "output_type": "execute_result"
    }
   ],
   "source": [
    "model"
   ]
  },
  {
   "cell_type": "code",
   "execution_count": 65,
   "metadata": {
    "colab": {},
    "colab_type": "code",
    "id": "dINYOgtjH0Py",
    "scrolled": true
   },
   "outputs": [],
   "source": [
    "model.save('Keras_digit.model')"
   ]
  },
  {
   "cell_type": "code",
   "execution_count": 66,
   "metadata": {
    "colab": {
     "base_uri": "https://localhost:8080/",
     "height": 54
    },
    "colab_type": "code",
    "executionInfo": {
     "elapsed": 1473,
     "status": "ok",
     "timestamp": 1551676946429,
     "user": {
      "displayName": "Shubham Wankhede",
      "photoUrl": "https://lh4.googleusercontent.com/-J5WXIV5ZC9M/AAAAAAAAAAI/AAAAAAAARhA/GNdW1BgYPC0/s64/photo.jpg",
      "userId": "07056579393575144670"
     },
     "user_tz": -330
    },
    "id": "IWmuDMbXIHnD",
    "outputId": "1b0c591e-87cf-4770-fb03-053df7a257f5"
   },
   "outputs": [],
   "source": [
    "model = tf.keras.models.load_model('Keras_digit.model')"
   ]
  },
  {
   "cell_type": "code",
   "execution_count": 67,
   "metadata": {
    "colab": {
     "base_uri": "https://localhost:8080/",
     "height": 365
    },
    "colab_type": "code",
    "executionInfo": {
     "elapsed": 1347,
     "status": "ok",
     "timestamp": 1551676979096,
     "user": {
      "displayName": "Shubham Wankhede",
      "photoUrl": "https://lh4.googleusercontent.com/-J5WXIV5ZC9M/AAAAAAAAAAI/AAAAAAAARhA/GNdW1BgYPC0/s64/photo.jpg",
      "userId": "07056579393575144670"
     },
     "user_tz": -330
    },
    "id": "2cPhdzBSIRnq",
    "outputId": "1d3be9ff-95e7-490b-ce0b-ac5c6971b8e7"
   },
   "outputs": [
    {
     "name": "stdout",
     "output_type": "stream",
     "text": [
      "Digit is  5\n"
     ]
    },
    {
     "data": {
      "image/png": "[encoded data removed]",
      "text/plain": [
       "<Figure size 432x288 with 1 Axes>"
      ]
     },
     "metadata": {
      "needs_background": "light"
     },
     "output_type": "display_data"
    }
   ],
   "source": [
    "plt.imshow(x_test[23])\n",
    "print('Digit is ',np.argmax(predictions[23]))"
   ]
  },
  {
   "cell_type": "code",
   "execution_count": 0,
   "metadata": {
    "colab": {},
    "colab_type": "code",
    "id": "UIhvYmRHJ7HN"
   },
   "outputs": [],
   "source": []
  }
 ],
 "metadata": {
  "accelerator": "GPU",
  "colab": {
   "name": "keras_basic.ipynb",
   "provenance": [],
   "version": "0.3.2"
  },
  "kernelspec": {
   "display_name": "Python 3",
   "language": "python",
   "name": "python3"
  },
  "language_info": {
   "codemirror_mode": {
    "name": "ipython",
    "version": 3
   },
   "file_extension": ".py",
   "mimetype": "text/x-python",
   "name": "python",
   "nbconvert_exporter": "python",
   "pygments_lexer": "ipython3",
   "version": "3.6.8"
  }
 },
 "nbformat": 4,
 "nbformat_minor": 1
}
